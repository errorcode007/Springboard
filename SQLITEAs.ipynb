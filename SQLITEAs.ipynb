{
 "cells": [
  {
   "cell_type": "code",
   "execution_count": 28,
   "metadata": {},
   "outputs": [],
   "source": [
    "import pandas as pd\n",
    "import sqlite3\n",
    "from sqlite3 import Error\n",
    " \n",
    "def create_connection(file):\n",
    "    conn = None\n",
    "    try:\n",
    "        conn = sqlite3.connect(file)\n",
    "        print(sqlite3.version)\n",
    "    except Error as e:\n",
    "        print(e)\n",
    " \n",
    "    return conn\n",
    " \n",
    "def select_all_tasks(conn, string):\n",
    "    cur = conn.cursor()  \n",
    "    query = string\n",
    "    rs = cur.execute(query)\n",
    "    return rs.fetchall()"
   ]
  },
  {
   "cell_type": "code",
   "execution_count": 29,
   "metadata": {},
   "outputs": [],
   "source": [
    "s1 = '''WITH y AS (SELECT DISTINCT x.facid,x.name, SUM(x.guest) OVER(PARTITION BY x.facid) AS gsum,\n",
    "SUM(x.mem) OVER(PARTITION BY x.facid) AS msum FROM  (SELECT f.facid, f.name, \n",
    "CASE WHEN b.memid = 0 AND f.facid=b.facid\n",
    "THEN b.slots*f.guestcost END AS guest,\n",
    "CASE WHEN b.memid<> 0 AND f.facid = b.facid\n",
    "THEN b.slots* f.membercost END as mem\n",
    "FROM Facilities As f\n",
    "INNER JOIN Bookings AS b ON f.facid=b.facid) AS x)\n",
    "\n",
    "SELECT y.name, (y.gsum+y.msum) AS gross_rev FROM y\n",
    "WHERE (y.gsum+y.msum) < 1000\n",
    "ORDER BY gross_rev'''\n",
    "\n",
    "s2 = '''SELECT a.surname||' '||a.firstname AS mem_name, b.surname||' '||b.firstname AS rec_name\n",
    "FROM Members a, Members b\n",
    "WHERE a.recommendedby = b.memid\n",
    "ORDER BY mem_name'''\n",
    "\n",
    "s3 = '''WITH x AS(SELECT facid,  sum(slots) AS tot_slots\n",
    "FROM Bookings\n",
    "WHERE memid <> 0\n",
    "GROUP BY facid\n",
    "ORDER BY sum(slots) DESC)\n",
    "\n",
    "SELECT f.name, x.tot_slots\n",
    "FROM Facilities AS f\n",
    "INNER JOIN x ON f.facid=x.facid'''\n",
    "\n",
    "s4 = '''\n",
    "WITH x AS(SELECT facid, strftime(' %m ', date(starttime)) AS mon, sum(slots) as tot\n",
    "FROM Bookings\n",
    "WHERE memid <> 0\n",
    "GROUP BY facid,mon)\n",
    "\n",
    "SELECT f.name, x.mon AS 'month', x.tot AS tot_usage\n",
    "FROM Facilities AS f\n",
    "INNER JOIN x ON f.facid=x.facid'''\n",
    "\n",
    "s = [s1,s2,s3,s4]"
   ]
  },
  {
   "cell_type": "code",
   "execution_count": 30,
   "metadata": {},
   "outputs": [],
   "source": [
    "q1 = '''Q10: Produce a list of facilities with a total revenue less than 1000.\n",
    "The output of facility name and total revenue, sorted by revenue. Remember\n",
    "that there a different cost for guests and members!'''\n",
    "\n",
    "q2 = '''Q11: Produce a report of members and who recommended them in alphabetic surname,firstname order'''\n",
    "\n",
    "q3 = '''Q12: Find the facilities with their usage by member, but not guests'''\n",
    "\n",
    "q4 = '''Find the facilities usage by month, but not guests'''\n",
    "\n",
    "q = [q1,q2,q3,q4]"
   ]
  },
  {
   "cell_type": "code",
   "execution_count": 33,
   "metadata": {},
   "outputs": [
    {
     "name": "stdout",
     "output_type": "stream",
     "text": [
      "2.6.0\n",
      "\n",
      "\n",
      " Q10: Produce a list of facilities with a total revenue less than 1000.\n",
      "The output of facility name and total revenue, sorted by revenue. Remember\n",
      "that there a different cost for guests and members! \n",
      "  Query TASK \n",
      "               0    1\n",
      "0   Table Tennis  180\n",
      "1  Snooker Table  240\n",
      "2     Pool Table  270\n",
      "\n",
      "\n",
      " Q11: Produce a report of members and who recommended them in alphabetic surname,firstname order \n",
      "  Query TASK \n",
      "                0                1\n",
      "0  Bader Florence  Stibbons Ponder\n",
      "1      Baker Anne  Stibbons Ponder\n",
      "2   Baker Timothy   Farrell Jemima\n",
      "3      Boothe Tim       Rownam Tim\n",
      "4  Butters Gerald     Smith Darren\n",
      "\n",
      "\n",
      " Q12: Find the facilities with their usage by member, but not guests \n",
      "  Query TASK \n",
      "                 0     1\n",
      "0  Badminton Court  1086\n",
      "1   Tennis Court 1   957\n",
      "2   Massage Room 1   884\n",
      "3   Tennis Court 2   882\n",
      "4    Snooker Table   860\n",
      "\n",
      "\n",
      " Find the facilities usage by month, but not guests \n",
      "  Query TASK \n",
      "                0     1    2\n",
      "0  Tennis Court 1   07   201\n",
      "1  Tennis Court 1   08   339\n",
      "2  Tennis Court 1   09   417\n",
      "3  Tennis Court 2   07   123\n",
      "4  Tennis Court 2   08   345\n"
     ]
    }
   ],
   "source": [
    "db = \"sqlite_db_pythonsqlite.db\"\n",
    "conn = create_connection(db)\n",
    "with conn: \n",
    "    for i,j in enumerate(s):\n",
    "        print(\"\\n\\n\",q[i],\"\\n  Query TASK \")\n",
    "        df = pd.DataFrame(select_all_tasks(conn,j))\n",
    "        print(df.head())"
   ]
  },
  {
   "cell_type": "code",
   "execution_count": null,
   "metadata": {},
   "outputs": [],
   "source": []
  }
 ],
 "metadata": {
  "kernelspec": {
   "display_name": "Python 3",
   "language": "python",
   "name": "python3"
  },
  "language_info": {
   "codemirror_mode": {
    "name": "ipython",
    "version": 3
   },
   "file_extension": ".py",
   "mimetype": "text/x-python",
   "name": "python",
   "nbconvert_exporter": "python",
   "pygments_lexer": "ipython3",
   "version": "3.7.6"
  }
 },
 "nbformat": 4,
 "nbformat_minor": 4
}
