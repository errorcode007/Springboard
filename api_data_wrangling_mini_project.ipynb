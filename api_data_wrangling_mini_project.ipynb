{
 "cells": [
  {
   "cell_type": "markdown",
   "metadata": {},
   "source": [
    "This exercise will require you to pull some data from the Qunadl API. Qaundl is currently the most widely used aggregator of financial market data."
   ]
  },
  {
   "cell_type": "markdown",
   "metadata": {},
   "source": [
    "As a first step, you will need to register a free account on the http://www.quandl.com website."
   ]
  },
  {
   "cell_type": "markdown",
   "metadata": {},
   "source": [
    "After you register, you will be provided with a unique API key, that you should store:"
   ]
  },
  {
   "cell_type": "code",
   "execution_count": 5,
   "metadata": {},
   "outputs": [],
   "source": [
    "# Store the API key as a string - according to PEP8, constants are always named in all upper case\n",
    "API_KEY = '9Bobi1UWm-5oszJbHazB'"
   ]
  },
  {
   "cell_type": "markdown",
   "metadata": {},
   "source": [
    "Qaundl has a large number of data sources, but, unfortunately, most of them require a Premium subscription. Still, there are also a good number of free datasets."
   ]
  },
  {
   "cell_type": "markdown",
   "metadata": {},
   "source": [
    "For this mini project, we will focus on equities data from the Frankfurt Stock Exhange (FSE), which is available for free. We'll try and analyze the stock prices of a company called Carl Zeiss Meditec, which manufactures tools for eye examinations, as well as medical lasers for laser eye surgery: https://www.zeiss.com/meditec/int/home.html. The company is listed under the stock ticker AFX_X."
   ]
  },
  {
   "cell_type": "markdown",
   "metadata": {},
   "source": [
    "You can find the detailed Quandl API instructions here: https://docs.quandl.com/docs/time-series"
   ]
  },
  {
   "cell_type": "markdown",
   "metadata": {},
   "source": [
    "While there is a dedicated Python package for connecting to the Quandl API, we would prefer that you use the *requests* package, which can be easily downloaded using *pip* or *conda*. You can find the documentation for the package here: http://docs.python-requests.org/en/master/ "
   ]
  },
  {
   "cell_type": "markdown",
   "metadata": {},
   "source": [
    "Finally, apart from the *requests* package, you are encouraged to not use any third party Python packages, such as *pandas*, and instead focus on what's available in the Python Standard Library (the *collections* module might come in handy: https://pymotw.com/3/collections/ ).\n",
    "Also, since you won't have access to DataFrames, you are encouraged to us Python's native data structures - preferably dictionaries, though some questions can also be answered using lists.\n",
    "You can read more on these data structures here: https://docs.python.org/3/tutorial/datastructures.html"
   ]
  },
  {
   "cell_type": "markdown",
   "metadata": {},
   "source": [
    "Keep in mind that the JSON responses you will be getting from the API map almost one-to-one to Python's dictionaries. Unfortunately, they can be very nested, so make sure you read up on indexing dictionaries in the documentation provided above."
   ]
  },
  {
   "cell_type": "code",
   "execution_count": 12,
   "metadata": {},
   "outputs": [],
   "source": [
    "# First, import the relevant modules\n",
    "import requests\n",
    "import json"
   ]
  },
  {
   "cell_type": "code",
   "execution_count": 13,
   "metadata": {},
   "outputs": [],
   "source": [
    "# Now, call the Quandl API and pull out a small sample of the data (only one day) to get a glimpse\n",
    "# into the JSON structure that will be returned\n",
    "response = requests.get(\"https://www.quandl.com/api/v3/datasets/FSE/EON_X?start_date=2020-08-28&end_date=2020-08-28&api_key=\"+API_KEY)"
   ]
  },
  {
   "cell_type": "code",
   "execution_count": 27,
   "metadata": {},
   "outputs": [
    {
     "name": "stdout",
     "output_type": "stream",
     "text": [
      "{\n",
      "    \"dataset\": {\n",
      "        \"collapse\": null,\n",
      "        \"column_index\": null,\n",
      "        \"column_names\": [\n",
      "            \"Date\",\n",
      "            \"Open\",\n",
      "            \"High\",\n",
      "            \"Low\",\n",
      "            \"Close\",\n",
      "            \"Change\",\n",
      "            \"Traded Volume\",\n",
      "            \"Turnover\",\n",
      "            \"Last Price of the Day\",\n",
      "            \"Daily Traded Units\",\n",
      "            \"Daily Turnover\"\n",
      "        ],\n",
      "        \"data\": [\n",
      "            [\n",
      "                \"2020-08-28\",\n",
      "                10.045,\n",
      "                10.055,\n",
      "                9.89,\n",
      "                9.926,\n",
      "                null,\n",
      "                5448361.0,\n",
      "                54182392.31,\n",
      "                null,\n",
      "                null,\n",
      "                null\n",
      "            ]\n",
      "        ],\n",
      "        \"database_code\": \"FSE\",\n",
      "        \"database_id\": 6129,\n",
      "        \"dataset_code\": \"EON_X\",\n",
      "        \"description\": \"Stock Prices for E.on Se (2020-08-14) from the Frankfurt Stock Exchange.<br><br>Trading System: Xetra<br><br>ISIN: DE000ENAG999\",\n",
      "        \"end_date\": \"2020-08-28\",\n",
      "        \"frequency\": \"daily\",\n",
      "        \"id\": 36592406,\n",
      "        \"limit\": null,\n",
      "        \"name\": \"E.on Se (EON_X)\",\n",
      "        \"newest_available_date\": \"2020-08-28\",\n",
      "        \"oldest_available_date\": \"2003-01-20\",\n",
      "        \"order\": null,\n",
      "        \"premium\": false,\n",
      "        \"refreshed_at\": \"2020-08-28T22:16:22.102Z\",\n",
      "        \"start_date\": \"2020-08-28\",\n",
      "        \"transform\": null,\n",
      "        \"type\": \"Time Series\"\n",
      "    }\n",
      "}\n",
      "<class 'dict'>\n",
      "<class 'requests.models.Response'>\n"
     ]
    }
   ],
   "source": [
    "# Inspect the JSON structure of the object you created, and take note of how nested it is,\n",
    "# as well as the overall structure\n",
    "def jprint(obj):\n",
    "    # create a formatted string of the Python JSON object\n",
    "    text = json.dumps(obj, sort_keys=True, indent=4)\n",
    "    print(text)\n",
    "    \n",
    "jprint(response.json())\n",
    "b = response.json()\n",
    "print(type(b))"
   ]
  },
  {
   "cell_type": "markdown",
   "metadata": {},
   "source": [
    "These are your tasks for this mini project:\n",
    "\n",
    "1. Collect data from the Franfurt Stock Exchange, for the ticker AFX_X, for the whole year 2017 (keep in mind that the date format is YYYY-MM-DD).\n",
    "2. Convert the returned JSON object into a Python dictionary.\n",
    "3. Calculate what the highest and lowest opening prices were for the stock in this period.\n",
    "4. What was the largest change in any one day (based on High and Low price)?\n",
    "5. What was the largest change between any two days (based on Closing Price)?\n",
    "6. What was the average daily trading volume during this year?\n",
    "7. (Optional) What was the median trading volume during this year. (Note: you may need to implement your own function for calculating the median.)"
   ]
  },
  {
   "cell_type": "code",
   "execution_count": 11,
   "metadata": {},
   "outputs": [],
   "source": [
    "query = requests.get(\"https://www.quandl.com/api/v3/datasets/FSE/EON_X?start_date=2017-01-01&end_date=2017-12-31&api_key=\"+API_KEY)"
   ]
  },
  {
   "cell_type": "code",
   "execution_count": 28,
   "metadata": {},
   "outputs": [],
   "source": [
    "data = query.json()"
   ]
  },
  {
   "cell_type": "code",
   "execution_count": 85,
   "metadata": {},
   "outputs": [
    {
     "name": "stdout",
     "output_type": "stream",
     "text": [
      "10.75\n"
     ]
    }
   ],
   "source": [
    "opn = []\n",
    "for key,lis in enumerate(data[\"dataset\"][\"data\"][:][:]):\n",
    "    opn.append(lis[1])\n"
   ]
  },
  {
   "cell_type": "code",
   "execution_count": 86,
   "metadata": {},
   "outputs": [
    {
     "name": "stdout",
     "output_type": "stream",
     "text": [
      "MAXIMUM OPENING PRICE:  10.75\n",
      "MINIMUM OPENING PRICE:  6.65\n"
     ]
    }
   ],
   "source": [
    "print(\"MAXIMUM OPENING PRICE: \",max(opn))\n",
    "print(\"MINIMUM OPENING PRICE: \",min(opn))"
   ]
  },
  {
   "cell_type": "code",
   "execution_count": 93,
   "metadata": {},
   "outputs": [
    {
     "name": "stdout",
     "output_type": "stream",
     "text": [
      "LARGEST CHANGE IN ONE DAY:  0.6999999999999993\n"
     ]
    }
   ],
   "source": [
    "chng = []\n",
    "for key,lis in enumerate(data[\"dataset\"][\"data\"][:][:]):\n",
    "    chng.append((lis[2]-lis[3]))\n",
    "print(\"LARGEST CHANGE IN ONE DAY: \", max(chng))"
   ]
  },
  {
   "cell_type": "code",
   "execution_count": 107,
   "metadata": {},
   "outputs": [],
   "source": [
    "cl = []\n",
    "\n",
    "for key,lis in enumerate(data[\"dataset\"][\"data\"][:][:]):\n",
    "    cl.append(lis[4])"
   ]
  },
  {
   "cell_type": "code",
   "execution_count": 109,
   "metadata": {},
   "outputs": [
    {
     "name": "stdout",
     "output_type": "stream",
     "text": [
      "LARGEST CHANGE IN TWO DAYS(CLOSING):  0.3999999999999986\n"
     ]
    }
   ],
   "source": [
    "ch = []\n",
    "for k in range(len(cl)-1):\n",
    "    ch.append((cl[k]-cl[k+1]))\n",
    "print(\"LARGEST CHANGE IN TWO DAYS(CLOSING): \",max(ch))"
   ]
  },
  {
   "cell_type": "code",
   "execution_count": 115,
   "metadata": {},
   "outputs": [
    {
     "name": "stdout",
     "output_type": "stream",
     "text": [
      "AVERAGE TRADED VOLUME(2017):  11708661.14\n"
     ]
    }
   ],
   "source": [
    "vol = []\n",
    "for key,lis in enumerate(data[\"dataset\"][\"data\"][:][:]):\n",
    "    vol.append(lis[6])\n",
    "print(\"AVERAGE TRADED VOLUME(2017): \",round((sum(vol)/len(vol)),2))"
   ]
  },
  {
   "cell_type": "code",
   "execution_count": 117,
   "metadata": {},
   "outputs": [
    {
     "name": "stdout",
     "output_type": "stream",
     "text": [
      "MEDIAN TRADED VOLUME(2017):  10542121.0\n"
     ]
    }
   ],
   "source": [
    "from statistics import median\n",
    "\n",
    "print(\"MEDIAN TRADED VOLUME(2017): \",median(vol))"
   ]
  },
  {
   "cell_type": "code",
   "execution_count": null,
   "metadata": {},
   "outputs": [],
   "source": []
  }
 ],
 "metadata": {
  "kernelspec": {
   "display_name": "Python 3",
   "language": "python",
   "name": "python3"
  },
  "language_info": {
   "codemirror_mode": {
    "name": "ipython",
    "version": 3
   },
   "file_extension": ".py",
   "mimetype": "text/x-python",
   "name": "python",
   "nbconvert_exporter": "python",
   "pygments_lexer": "ipython3",
   "version": "3.7.6"
  }
 },
 "nbformat": 4,
 "nbformat_minor": 2
}
